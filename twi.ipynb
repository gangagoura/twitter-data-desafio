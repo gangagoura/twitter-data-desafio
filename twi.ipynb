pip install twitter

from twitter import *

consumer_key = "xxxxxx"
consumer_secret = "xxxxx"
access_key = "xxxxx"
access_secret = "xxxxx"

twitter = Twitter(auth = OAuth(access_key,
                  access_secret,
                  consumer_key,
                  consumer_secret))

brazil_id = 23424768
results = twitter.trends.place(_id = brazil_id)

print("Brazil Trends")

for location in results:
    for trend in location["trends"]:
        print(" - %s" % trend["name"])
